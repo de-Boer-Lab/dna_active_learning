{
 "cells": [
  {
   "cell_type": "markdown",
   "id": "61674cbc-726d-49d2-8c4d-614a156289d7",
   "metadata": {},
   "source": [
    "# Import libraries"
   ]
  },
  {
   "cell_type": "code",
   "execution_count": 2,
   "id": "1eb600f1-9fc6-4406-b38e-98ee8b3d975a",
   "metadata": {},
   "outputs": [],
   "source": [
    "import numpy as np\n",
    "import torch\n",
    "import torch.nn as nn\n",
    "from torchinfo import summary\n",
    "import matplotlib.pyplot as plt\n",
    "from models import dream_models\n",
    "from models.dl_utils import prepare_dataloader\n",
    "from models.trainer import Trainer\n",
    "from models.model_utils import load_model\n",
    "from models.evaluation import load_ground_truth,average_fwd_rev_pred,eval_model"
   ]
  },
  {
   "cell_type": "markdown",
   "id": "ca755a5d-1e07-4649-9ed0-8df84715e0ce",
   "metadata": {},
   "source": [
    "# Models"
   ]
  },
  {
   "cell_type": "code",
   "execution_count": 3,
   "id": "40423722-6f79-478b-bfa0-4bde577a93cd",
   "metadata": {},
   "outputs": [],
   "source": [
    "# for human\n",
    "seqsize=200\n",
    "in_channels=5"
   ]
  },
  {
   "cell_type": "code",
   "execution_count": null,
   "id": "e703da27-77a5-43dc-8bd1-a70d74b6a033",
   "metadata": {},
   "outputs": [],
   "source": [
    "# for yeast\n",
    "seqsize=150\n",
    "in_channels=6"
   ]
  },
  {
   "cell_type": "code",
   "execution_count": 4,
   "id": "4d26e738-f6ba-46c9-b362-462a43234b9b",
   "metadata": {},
   "outputs": [],
   "source": [
    "rnn=dream_models.DREAM_RNN(seqsize=seqsize,in_channels=in_channels)\n",
    "cnn=dream_models.DREAM_CNN(seqsize=seqsize,in_channels=in_channels)\n",
    "attn=dream_models.DREAM_ATTN(seqsize=seqsize,in_channels=in_channels)"
   ]
  },
  {
   "cell_type": "code",
   "execution_count": 5,
   "id": "e1d0e5e8-0510-412c-a7f9-8132e4bfdc34",
   "metadata": {
    "collapsed": true,
    "jupyter": {
     "outputs_hidden": true
    }
   },
   "outputs": [
    {
     "data": {
      "text/plain": [
       "==========================================================================================\n",
       "Layer (type:depth-idx)                   Output Shape              Param #\n",
       "==========================================================================================\n",
       "DREAM_RNN                                [1, 1]                    --\n",
       "├─ModuleList: 1-1                        --                        --\n",
       "│    └─FirstConvBlock: 2-1               [1, 160, 200]             --\n",
       "│    │    └─Conv1d: 3-1                  [1, 160, 200]             7,360\n",
       "│    │    └─MaxPool1d: 3-2               [1, 160, 200]             --\n",
       "│    │    └─Dropout: 3-3                 [1, 160, 200]             --\n",
       "│    └─FirstConvBlock: 2-2               [1, 160, 200]             --\n",
       "│    │    └─Conv1d: 3-4                  [1, 160, 200]             12,160\n",
       "│    │    └─MaxPool1d: 3-5               [1, 160, 200]             --\n",
       "│    │    └─Dropout: 3-6                 [1, 160, 200]             --\n",
       "├─LSTM: 1-2                              [1, 200, 640]             1,643,520\n",
       "├─ModuleList: 1-3                        --                        --\n",
       "│    └─FirstConvBlock: 2-3               [1, 160, 200]             --\n",
       "│    │    └─Conv1d: 3-7                  [1, 160, 200]             921,760\n",
       "│    │    └─MaxPool1d: 3-8               [1, 160, 200]             --\n",
       "│    │    └─Dropout: 3-9                 [1, 160, 200]             --\n",
       "│    └─FirstConvBlock: 2-4               [1, 160, 200]             --\n",
       "│    │    └─Conv1d: 3-10                 [1, 160, 200]             1,536,160\n",
       "│    │    └─MaxPool1d: 3-11              [1, 160, 200]             --\n",
       "│    │    └─Dropout: 3-12                [1, 160, 200]             --\n",
       "├─Dropout: 1-4                           [1, 320, 200]             --\n",
       "├─Conv1d: 1-5                            [1, 256, 200]             82,176\n",
       "├─Sequential: 1-6                        [1, 1]                    --\n",
       "│    └─Linear: 2-5                       [1, 1]                    257\n",
       "│    └─ReLU: 2-6                         [1, 1]                    --\n",
       "==========================================================================================\n",
       "Total params: 4,203,393\n",
       "Trainable params: 4,203,393\n",
       "Non-trainable params: 0\n",
       "Total mult-adds (Units.MEGABYTES): 840.63\n",
       "==========================================================================================\n",
       "Input size (MB): 0.00\n",
       "Forward/backward pass size (MB): 2.46\n",
       "Params size (MB): 16.81\n",
       "Estimated Total Size (MB): 19.28\n",
       "=========================================================================================="
      ]
     },
     "execution_count": 5,
     "metadata": {},
     "output_type": "execute_result"
    }
   ],
   "source": [
    "summary(rnn,(1,in_channels,seqsize))"
   ]
  },
  {
   "cell_type": "code",
   "execution_count": 6,
   "id": "2582c0e3-7c94-4063-a3a5-d9f3948bbb7d",
   "metadata": {
    "collapsed": true,
    "jupyter": {
     "outputs_hidden": true
    }
   },
   "outputs": [
    {
     "data": {
      "text/plain": [
       "==========================================================================================\n",
       "Layer (type:depth-idx)                   Output Shape              Param #\n",
       "==========================================================================================\n",
       "DREAM_CNN                                [1, 1]                    --\n",
       "├─ModuleList: 1-1                        --                        --\n",
       "│    └─FirstConvBlock: 2-1               [1, 160, 200]             --\n",
       "│    │    └─Conv1d: 3-1                  [1, 160, 200]             7,360\n",
       "│    │    └─MaxPool1d: 3-2               [1, 160, 200]             --\n",
       "│    │    └─Dropout: 3-3                 [1, 160, 200]             --\n",
       "│    └─FirstConvBlock: 2-2               [1, 160, 200]             --\n",
       "│    │    └─Conv1d: 3-4                  [1, 160, 200]             12,160\n",
       "│    │    └─MaxPool1d: 3-5               [1, 160, 200]             --\n",
       "│    │    └─Dropout: 3-6                 [1, 160, 200]             --\n",
       "├─ModuleDict: 1-2                        --                        --\n",
       "│    └─Sequential: 2-3                   [1, 320, 200]             --\n",
       "│    │    └─Conv1d: 3-7                  [1, 512, 200]             163,840\n",
       "│    │    └─BatchNorm1d: 3-8             [1, 512, 200]             1,024\n",
       "│    │    └─SiLU: 3-9                    [1, 512, 200]             --\n",
       "│    │    └─Dropout: 3-10                [1, 512, 200]             --\n",
       "│    │    └─Conv1d: 3-11                 [1, 512, 200]             7,168\n",
       "│    │    └─BatchNorm1d: 3-12            [1, 512, 200]             1,024\n",
       "│    │    └─SiLU: 3-13                   [1, 512, 200]             --\n",
       "│    │    └─Dropout: 3-14                [1, 512, 200]             --\n",
       "│    │    └─SELayerSimple: 3-15          [1, 512, 200]             82,512\n",
       "│    │    └─Conv1d: 3-16                 [1, 320, 200]             163,840\n",
       "│    │    └─BatchNorm1d: 3-17            [1, 320, 200]             640\n",
       "│    │    └─SiLU: 3-18                   [1, 320, 200]             --\n",
       "│    │    └─Dropout: 3-19                [1, 320, 200]             --\n",
       "│    └─Sequential: 2-4                   [1, 128, 200]             --\n",
       "│    │    └─Conv1d: 3-20                 [1, 128, 200]             573,440\n",
       "│    │    └─BatchNorm1d: 3-21            [1, 128, 200]             256\n",
       "│    │    └─SiLU: 3-22                   [1, 128, 200]             --\n",
       "│    │    └─Dropout: 3-23                [1, 128, 200]             --\n",
       "│    └─Sequential: 2-5                   [1, 128, 200]             --\n",
       "│    │    └─Conv1d: 3-24                 [1, 512, 200]             65,536\n",
       "│    │    └─BatchNorm1d: 3-25            [1, 512, 200]             1,024\n",
       "│    │    └─SiLU: 3-26                   [1, 512, 200]             --\n",
       "│    │    └─Dropout: 3-27                [1, 512, 200]             --\n",
       "│    │    └─Conv1d: 3-28                 [1, 512, 200]             7,168\n",
       "│    │    └─BatchNorm1d: 3-29            [1, 512, 200]             1,024\n",
       "│    │    └─SiLU: 3-30                   [1, 512, 200]             --\n",
       "│    │    └─Dropout: 3-31                [1, 512, 200]             --\n",
       "│    │    └─SELayerSimple: 3-32          [1, 512, 200]             33,312\n",
       "│    │    └─Conv1d: 3-33                 [1, 128, 200]             65,536\n",
       "│    │    └─BatchNorm1d: 3-34            [1, 128, 200]             256\n",
       "│    │    └─SiLU: 3-35                   [1, 128, 200]             --\n",
       "│    │    └─Dropout: 3-36                [1, 128, 200]             --\n",
       "│    └─Sequential: 2-6                   [1, 128, 200]             --\n",
       "│    │    └─Conv1d: 3-37                 [1, 128, 200]             229,376\n",
       "│    │    └─BatchNorm1d: 3-38            [1, 128, 200]             256\n",
       "│    │    └─SiLU: 3-39                   [1, 128, 200]             --\n",
       "│    │    └─Dropout: 3-40                [1, 128, 200]             --\n",
       "│    └─Sequential: 2-7                   [1, 128, 200]             --\n",
       "│    │    └─Conv1d: 3-41                 [1, 256, 200]             32,768\n",
       "│    │    └─BatchNorm1d: 3-42            [1, 256, 200]             512\n",
       "│    │    └─SiLU: 3-43                   [1, 256, 200]             --\n",
       "│    │    └─Dropout: 3-44                [1, 256, 200]             --\n",
       "│    │    └─Conv1d: 3-45                 [1, 256, 200]             3,584\n",
       "│    │    └─BatchNorm1d: 3-46            [1, 256, 200]             512\n",
       "│    │    └─SiLU: 3-47                   [1, 256, 200]             --\n",
       "│    │    └─Dropout: 3-48                [1, 256, 200]             --\n",
       "│    │    └─SELayerSimple: 3-49          [1, 256, 200]             16,672\n",
       "│    │    └─Conv1d: 3-50                 [1, 128, 200]             32,768\n",
       "│    │    └─BatchNorm1d: 3-51            [1, 128, 200]             256\n",
       "│    │    └─SiLU: 3-52                   [1, 128, 200]             --\n",
       "│    │    └─Dropout: 3-53                [1, 128, 200]             --\n",
       "│    └─Sequential: 2-8                   [1, 64, 200]              --\n",
       "│    │    └─Conv1d: 3-54                 [1, 64, 200]              114,688\n",
       "│    │    └─BatchNorm1d: 3-55            [1, 64, 200]              128\n",
       "│    │    └─SiLU: 3-56                   [1, 64, 200]              --\n",
       "│    │    └─Dropout: 3-57                [1, 64, 200]              --\n",
       "│    └─Sequential: 2-9                   [1, 64, 200]              --\n",
       "│    │    └─Conv1d: 3-58                 [1, 256, 200]             16,384\n",
       "│    │    └─BatchNorm1d: 3-59            [1, 256, 200]             512\n",
       "│    │    └─SiLU: 3-60                   [1, 256, 200]             --\n",
       "│    │    └─Dropout: 3-61                [1, 256, 200]             --\n",
       "│    │    └─Conv1d: 3-62                 [1, 256, 200]             3,584\n",
       "│    │    └─BatchNorm1d: 3-63            [1, 256, 200]             512\n",
       "│    │    └─SiLU: 3-64                   [1, 256, 200]             --\n",
       "│    │    └─Dropout: 3-65                [1, 256, 200]             --\n",
       "│    │    └─SELayerSimple: 3-66          [1, 256, 200]             8,464\n",
       "│    │    └─Conv1d: 3-67                 [1, 64, 200]              16,384\n",
       "│    │    └─BatchNorm1d: 3-68            [1, 64, 200]              128\n",
       "│    │    └─SiLU: 3-69                   [1, 64, 200]              --\n",
       "│    │    └─Dropout: 3-70                [1, 64, 200]              --\n",
       "│    └─Sequential: 2-10                  [1, 64, 200]              --\n",
       "│    │    └─Conv1d: 3-71                 [1, 64, 200]              57,344\n",
       "│    │    └─BatchNorm1d: 3-72            [1, 64, 200]              128\n",
       "│    │    └─SiLU: 3-73                   [1, 64, 200]              --\n",
       "│    │    └─Dropout: 3-74                [1, 64, 200]              --\n",
       "│    └─Sequential: 2-11                  [1, 64, 200]              --\n",
       "│    │    └─Conv1d: 3-75                 [1, 256, 200]             16,384\n",
       "│    │    └─BatchNorm1d: 3-76            [1, 256, 200]             512\n",
       "│    │    └─SiLU: 3-77                   [1, 256, 200]             --\n",
       "│    │    └─Dropout: 3-78                [1, 256, 200]             --\n",
       "│    │    └─Conv1d: 3-79                 [1, 256, 200]             3,584\n",
       "│    │    └─BatchNorm1d: 3-80            [1, 256, 200]             512\n",
       "│    │    └─SiLU: 3-81                   [1, 256, 200]             --\n",
       "│    │    └─Dropout: 3-82                [1, 256, 200]             --\n",
       "│    │    └─SELayerSimple: 3-83          [1, 256, 200]             8,464\n",
       "│    │    └─Conv1d: 3-84                 [1, 64, 200]              16,384\n",
       "│    │    └─BatchNorm1d: 3-85            [1, 64, 200]              128\n",
       "│    │    └─SiLU: 3-86                   [1, 64, 200]              --\n",
       "│    │    └─Dropout: 3-87                [1, 64, 200]              --\n",
       "│    └─Sequential: 2-12                  [1, 64, 200]              --\n",
       "│    │    └─Conv1d: 3-88                 [1, 64, 200]              57,344\n",
       "│    │    └─BatchNorm1d: 3-89            [1, 64, 200]              128\n",
       "│    │    └─SiLU: 3-90                   [1, 64, 200]              --\n",
       "│    │    └─Dropout: 3-91                [1, 64, 200]              --\n",
       "│    └─Sequential: 2-13                  [1, 64, 200]              --\n",
       "│    │    └─Conv1d: 3-92                 [1, 256, 200]             16,384\n",
       "│    │    └─BatchNorm1d: 3-93            [1, 256, 200]             512\n",
       "│    │    └─SiLU: 3-94                   [1, 256, 200]             --\n",
       "│    │    └─Dropout: 3-95                [1, 256, 200]             --\n",
       "│    │    └─Conv1d: 3-96                 [1, 256, 200]             3,584\n",
       "│    │    └─BatchNorm1d: 3-97            [1, 256, 200]             512\n",
       "│    │    └─SiLU: 3-98                   [1, 256, 200]             --\n",
       "│    │    └─Dropout: 3-99                [1, 256, 200]             --\n",
       "│    │    └─SELayerSimple: 3-100         [1, 256, 200]             8,464\n",
       "│    │    └─Conv1d: 3-101                [1, 64, 200]              16,384\n",
       "│    │    └─BatchNorm1d: 3-102           [1, 64, 200]              128\n",
       "│    │    └─SiLU: 3-103                  [1, 64, 200]              --\n",
       "│    │    └─Dropout: 3-104               [1, 64, 200]              --\n",
       "│    └─Sequential: 2-14                  [1, 64, 200]              --\n",
       "│    │    └─Conv1d: 3-105                [1, 64, 200]              57,344\n",
       "│    │    └─BatchNorm1d: 3-106           [1, 64, 200]              128\n",
       "│    │    └─SiLU: 3-107                  [1, 64, 200]              --\n",
       "│    │    └─Dropout: 3-108               [1, 64, 200]              --\n",
       "├─Conv1d: 1-3                            [1, 256, 200]             16,640\n",
       "├─Sequential: 1-4                        [1, 1]                    --\n",
       "│    └─Linear: 2-15                      [1, 1]                    257\n",
       "│    └─ReLU: 2-16                        [1, 1]                    --\n",
       "==========================================================================================\n",
       "Total params: 1,945,857\n",
       "Trainable params: 1,945,857\n",
       "Non-trainable params: 0\n",
       "Total mult-adds (Units.MEGABYTES): 355.56\n",
       "==========================================================================================\n",
       "Input size (MB): 0.00\n",
       "Forward/backward pass size (MB): 18.14\n",
       "Params size (MB): 7.78\n",
       "Estimated Total Size (MB): 25.93\n",
       "=========================================================================================="
      ]
     },
     "execution_count": 6,
     "metadata": {},
     "output_type": "execute_result"
    }
   ],
   "source": [
    "summary(cnn,(1,in_channels,seqsize))"
   ]
  },
  {
   "cell_type": "code",
   "execution_count": 7,
   "id": "c8a3f38b-45bd-40c9-a1ec-e443d2ab19c4",
   "metadata": {
    "collapsed": true,
    "jupyter": {
     "outputs_hidden": true
    }
   },
   "outputs": [
    {
     "data": {
      "text/plain": [
       "==========================================================================================\n",
       "Layer (type:depth-idx)                   Output Shape              Param #\n",
       "==========================================================================================\n",
       "DREAM_ATTN                               [1, 1]                    --\n",
       "├─Sequential: 1-1                        [1, 256, 200]             --\n",
       "│    └─Conv1d: 2-1                       [1, 256, 200]             8,960\n",
       "│    └─BatchNorm1d: 2-2                  [1, 256, 200]             512\n",
       "│    └─SiLU: 2-3                         [1, 256, 200]             --\n",
       "│    └─Dropout: 2-4                      [1, 256, 200]             --\n",
       "├─Embedding: 1-2                         [1, 200, 256]             51,200\n",
       "├─ModuleList: 1-3                        --                        --\n",
       "│    └─ConformerSASwiGLULayer: 2-5       [1, 256, 200]             --\n",
       "│    │    └─FeedForwardSwiGLU: 3-1       [1, 256, 200]             393,728\n",
       "│    │    └─LayerNorm: 3-2               [1, 200, 256]             512\n",
       "│    │    └─Sequential: 3-3              [1, 256, 200]             69,632\n",
       "│    │    └─LayerNorm: 3-4               [1, 200, 256]             512\n",
       "│    │    └─MultiheadAttention: 3-5      [1, 200, 256]             263,168\n",
       "│    │    └─FeedForwardSwiGLU: 3-6       [1, 256, 200]             393,728\n",
       "│    └─ConformerSASwiGLULayer: 2-6       [1, 256, 200]             --\n",
       "│    │    └─FeedForwardSwiGLU: 3-7       [1, 256, 200]             393,728\n",
       "│    │    └─LayerNorm: 3-8               [1, 200, 256]             512\n",
       "│    │    └─Sequential: 3-9              [1, 256, 200]             69,632\n",
       "│    │    └─LayerNorm: 3-10              [1, 200, 256]             512\n",
       "│    │    └─MultiheadAttention: 3-11     [1, 200, 256]             263,168\n",
       "│    │    └─FeedForwardSwiGLU: 3-12      [1, 256, 200]             393,728\n",
       "│    └─ConformerSASwiGLULayer: 2-7       [1, 256, 200]             --\n",
       "│    │    └─FeedForwardSwiGLU: 3-13      [1, 256, 200]             393,728\n",
       "│    │    └─LayerNorm: 3-14              [1, 200, 256]             512\n",
       "│    │    └─Sequential: 3-15             [1, 256, 200]             69,632\n",
       "│    │    └─LayerNorm: 3-16              [1, 200, 256]             512\n",
       "│    │    └─MultiheadAttention: 3-17     [1, 200, 256]             263,168\n",
       "│    │    └─FeedForwardSwiGLU: 3-18      [1, 256, 200]             393,728\n",
       "│    └─ConformerSASwiGLULayer: 2-8       [1, 256, 200]             --\n",
       "│    │    └─FeedForwardSwiGLU: 3-19      [1, 256, 200]             393,728\n",
       "│    │    └─LayerNorm: 3-20              [1, 200, 256]             512\n",
       "│    │    └─Sequential: 3-21             [1, 256, 200]             69,632\n",
       "│    │    └─LayerNorm: 3-22              [1, 200, 256]             512\n",
       "│    │    └─MultiheadAttention: 3-23     [1, 200, 256]             263,168\n",
       "│    │    └─FeedForwardSwiGLU: 3-24      [1, 256, 200]             393,728\n",
       "├─Conv1d: 1-4                            [1, 256, 200]             65,792\n",
       "├─Sequential: 1-5                        [1, 1]                    --\n",
       "│    └─Linear: 2-9                       [1, 1]                    257\n",
       "│    └─ReLU: 2-10                        [1, 1]                    --\n",
       "==========================================================================================\n",
       "Total params: 4,611,841\n",
       "Trainable params: 4,611,841\n",
       "Non-trainable params: 0\n",
       "Total mult-adds (Units.MEGABYTES): 73.86\n",
       "==========================================================================================\n",
       "Input size (MB): 0.00\n",
       "Forward/backward pass size (MB): 27.85\n",
       "Params size (MB): 14.24\n",
       "Estimated Total Size (MB): 42.09\n",
       "=========================================================================================="
      ]
     },
     "execution_count": 7,
     "metadata": {},
     "output_type": "execute_result"
    }
   ],
   "source": [
    "summary(attn,(1,in_channels,seqsize))"
   ]
  },
  {
   "cell_type": "markdown",
   "id": "3b037343-bb27-4bd9-825c-cc11c72aa338",
   "metadata": {},
   "source": [
    "# Dataloader"
   ]
  },
  {
   "cell_type": "code",
   "execution_count": 8,
   "id": "bad3cf1e-8dd4-4a4d-8904-00bce3577abc",
   "metadata": {},
   "outputs": [],
   "source": [
    "species='human' # or 'yeast'"
   ]
  },
  {
   "cell_type": "code",
   "execution_count": 9,
   "id": "29fa9fb6-0b22-46fd-8a5c-edfb2c67fd23",
   "metadata": {},
   "outputs": [],
   "source": [
    "train_dl=prepare_dataloader(tsv_path=f\"data/{species}/demo_train.txt\", \n",
    "                   seqsize=seqsize,\n",
    "                   species=species,\n",
    "                   batch_size=32,\n",
    "                   shuffle = True)"
   ]
  },
  {
   "cell_type": "code",
   "execution_count": 10,
   "id": "55dc540a-a8e0-49f6-82e1-501bc4629eb8",
   "metadata": {},
   "outputs": [],
   "source": [
    "val_dl=prepare_dataloader(tsv_path=f\"data/{species}/demo_val.txt\", \n",
    "                   seqsize=seqsize,\n",
    "                   species=species,\n",
    "                   batch_size=2048,\n",
    "                   shuffle = False)"
   ]
  },
  {
   "cell_type": "code",
   "execution_count": 11,
   "id": "1c513b94-37a8-47bd-8682-f68abf9f375a",
   "metadata": {
    "collapsed": true,
    "jupyter": {
     "outputs_hidden": true
    }
   },
   "outputs": [
    {
     "data": {
      "text/plain": [
       "{'x': tensor([[[0., 0., 0.,  ..., 0., 0., 0.],\n",
       "          [0., 0., 0.,  ..., 0., 0., 0.],\n",
       "          [0., 1., 1.,  ..., 1., 1., 0.],\n",
       "          [1., 0., 0.,  ..., 0., 0., 1.],\n",
       "          [0., 0., 0.,  ..., 0., 0., 0.]],\n",
       " \n",
       "         [[0., 0., 1.,  ..., 1., 0., 0.],\n",
       "          [1., 0., 0.,  ..., 0., 0., 0.],\n",
       "          [0., 1., 0.,  ..., 0., 0., 0.],\n",
       "          [0., 0., 0.,  ..., 0., 1., 1.],\n",
       "          [1., 1., 1.,  ..., 1., 1., 1.]],\n",
       " \n",
       "         [[0., 0., 0.,  ..., 0., 1., 0.],\n",
       "          [0., 0., 0.,  ..., 0., 0., 0.],\n",
       "          [0., 1., 0.,  ..., 0., 0., 1.],\n",
       "          [1., 0., 1.,  ..., 1., 0., 0.],\n",
       "          [1., 1., 1.,  ..., 1., 1., 1.]],\n",
       " \n",
       "         ...,\n",
       " \n",
       "         [[0., 1., 0.,  ..., 0., 0., 0.],\n",
       "          [0., 0., 0.,  ..., 1., 0., 0.],\n",
       "          [1., 0., 0.,  ..., 0., 0., 0.],\n",
       "          [0., 0., 1.,  ..., 0., 1., 1.],\n",
       "          [1., 1., 1.,  ..., 1., 1., 1.]],\n",
       " \n",
       "         [[0., 0., 0.,  ..., 0., 0., 0.],\n",
       "          [0., 0., 1.,  ..., 1., 0., 0.],\n",
       "          [0., 1., 0.,  ..., 0., 1., 1.],\n",
       "          [1., 0., 0.,  ..., 0., 0., 0.],\n",
       "          [1., 1., 1.,  ..., 1., 1., 1.]],\n",
       " \n",
       "         [[1., 0., 0.,  ..., 0., 0., 0.],\n",
       "          [0., 0., 0.,  ..., 0., 0., 0.],\n",
       "          [0., 1., 1.,  ..., 1., 0., 1.],\n",
       "          [0., 0., 0.,  ..., 0., 1., 0.],\n",
       "          [0., 0., 0.,  ..., 0., 0., 0.]]]),\n",
       " 'y': tensor([-0.5438,  1.2298,  1.4863,  0.3920,  4.0609,  3.0063,  3.4419,  0.6035,\n",
       "          0.5957,  3.4419,  2.0027, -0.1336,  0.1221, -0.0222,  0.0447,  1.5965,\n",
       "         -1.3202,  1.7767,  0.4192,  1.2079, -3.0046, -0.0410, -0.1048, -0.4498,\n",
       "          0.4031, -0.4127, -0.3279,  0.1221, -0.3726, -0.3293, -0.2816,  3.1265])}"
      ]
     },
     "execution_count": 11,
     "metadata": {},
     "output_type": "execute_result"
    }
   ],
   "source": [
    "next(iter(train_dl))"
   ]
  },
  {
   "cell_type": "markdown",
   "id": "e13892a4-7eb1-4387-98f4-9f92c5671ce7",
   "metadata": {},
   "source": [
    "# Trainer"
   ]
  },
  {
   "cell_type": "code",
   "execution_count": 12,
   "id": "8d987eda-5fc0-4214-b77c-54bbdd27523a",
   "metadata": {},
   "outputs": [],
   "source": [
    "model=rnn # or cnn or attn\n",
    "model_dir=f'data/{species}/model'"
   ]
  },
  {
   "cell_type": "code",
   "execution_count": 13,
   "id": "5f792a49-0f06-4e32-b766-d11a314ff19e",
   "metadata": {},
   "outputs": [],
   "source": [
    "trainer = Trainer(\n",
    "        model=model,\n",
    "        train_dataloader=train_dl,\n",
    "        val_dataloader=val_dl,\n",
    "        model_dir=model_dir,\n",
    "        num_epochs=80,\n",
    "        lr=0.005, # 0.001 for attn\n",
    "        device=torch.device(\"cuda\" if torch.cuda.is_available() else \"cpu\")\n",
    ")"
   ]
  },
  {
   "cell_type": "code",
   "execution_count": 14,
   "id": "42b96cd1-ff79-487b-9794-e713af968cfd",
   "metadata": {
    "scrolled": true
   },
   "outputs": [
    {
     "name": "stderr",
     "output_type": "stream",
     "text": [
      "  0%|          | 0/80 [00:00<?, ?it/s]\n",
      "Epoch 1:   0%|          | 0/63 [00:00<?, ?it/s]\u001b[A\n",
      "Epoch 1:   2%|▏         | 1/63 [00:01<01:05,  1.05s/it]\u001b[A\n",
      "Epoch 1:   6%|▋         | 4/63 [00:01<00:13,  4.33it/s]\u001b[A\n",
      "Epoch 1:  13%|█▎        | 8/63 [00:01<00:06,  9.14it/s]\u001b[A\n",
      "Epoch 1:  19%|█▉        | 12/63 [00:01<00:03, 13.73it/s]\u001b[A\n",
      "Epoch 1:  24%|██▍       | 15/63 [00:01<00:02, 16.35it/s]\u001b[A\n",
      "Epoch 1:  29%|██▊       | 18/63 [00:01<00:02, 18.01it/s]\u001b[A\n",
      "Epoch 1:  33%|███▎      | 21/63 [00:01<00:02, 19.04it/s]\u001b[A\n",
      "Epoch 1:  38%|███▊      | 24/63 [00:01<00:01, 19.64it/s]\u001b[A\n",
      "Epoch 1:  43%|████▎     | 27/63 [00:02<00:01, 20.03it/s]\u001b[A\n",
      "Epoch 1:  48%|████▊     | 30/63 [00:02<00:01, 20.34it/s]\u001b[A\n",
      "Epoch 1:  52%|█████▏    | 33/63 [00:02<00:01, 20.56it/s]\u001b[A\n",
      "Epoch 1:  57%|█████▋    | 36/63 [00:02<00:01, 20.74it/s]\u001b[A\n",
      "Epoch 1:  62%|██████▏   | 39/63 [00:02<00:01, 20.68it/s]\u001b[A\n",
      "Epoch 1:  67%|██████▋   | 42/63 [00:02<00:01, 20.68it/s]\u001b[A\n",
      "Epoch 1:  71%|███████▏  | 45/63 [00:02<00:00, 20.80it/s]\u001b[A\n",
      "Epoch 1:  76%|███████▌  | 48/63 [00:03<00:00, 20.88it/s]\u001b[A\n",
      "Epoch 1:  81%|████████  | 51/63 [00:03<00:00, 20.95it/s]\u001b[A\n",
      "Epoch 1:  86%|████████▌ | 54/63 [00:03<00:00, 20.99it/s]\u001b[A\n",
      "Epoch 1:  90%|█████████ | 57/63 [00:03<00:00, 21.00it/s]\u001b[A\n",
      "Epoch 1:  95%|█████████▌| 60/63 [00:03<00:00, 21.01it/s]\u001b[A\n",
      "Epoch 1: 100%|██████████| 63/63 [00:03<00:00, 16.08it/s]\u001b[A\n",
      "\n",
      "Validation:   0%|          | 0/1 [00:00<?, ?it/s]\u001b[A\n",
      "Validation: 100%|██████████| 1/1 [00:01<00:00,  1.81s/it]\u001b[A\n"
     ]
    },
    {
     "name": "stdout",
     "output_type": "stream",
     "text": [
      "{'MSE': 1.9487944841384888, 'pearsonr': 0.2948164430066624}\n"
     ]
    },
    {
     "name": "stderr",
     "output_type": "stream",
     "text": [
      "  1%|▏         | 1/80 [00:06<07:59,  6.07s/it]\n",
      "Epoch 2:   0%|          | 0/63 [00:00<?, ?it/s]\u001b[A\n",
      "Epoch 2:   2%|▏         | 1/63 [00:00<00:55,  1.12it/s]\u001b[A\n",
      "Epoch 2:   5%|▍         | 3/63 [00:00<00:16,  3.72it/s]\u001b[A\n",
      "Epoch 2:  10%|▉         | 6/63 [00:01<00:07,  7.56it/s]\u001b[A\n",
      "Epoch 2:  14%|█▍        | 9/63 [00:01<00:04, 10.89it/s]\u001b[A\n",
      "Epoch 2:  19%|█▉        | 12/63 [00:01<00:03, 13.48it/s]\u001b[A\n",
      "Epoch 2:  24%|██▍       | 15/63 [00:01<00:03, 15.48it/s]\u001b[A\n",
      "Epoch 2:  29%|██▊       | 18/63 [00:01<00:02, 17.01it/s]\u001b[A\n",
      "Epoch 2:  33%|███▎      | 21/63 [00:01<00:02, 18.13it/s]\u001b[A\n",
      "Epoch 2:  38%|███▊      | 24/63 [00:01<00:02, 18.93it/s]\u001b[A\n",
      "Epoch 2:  43%|████▎     | 27/63 [00:02<00:01, 19.52it/s]\u001b[A\n",
      "Epoch 2:  48%|████▊     | 30/63 [00:02<00:01, 19.93it/s]\u001b[A\n",
      "Epoch 2:  52%|█████▏    | 33/63 [00:02<00:01, 20.24it/s]\u001b[A\n",
      "Epoch 2:  57%|█████▋    | 36/63 [00:02<00:01, 20.46it/s]\u001b[A\n",
      "Epoch 2:  62%|██████▏   | 39/63 [00:02<00:01, 20.61it/s]\u001b[A\n",
      "Epoch 2:  67%|██████▋   | 42/63 [00:02<00:01, 20.72it/s]\u001b[A\n",
      "Epoch 2:  71%|███████▏  | 45/63 [00:02<00:00, 20.80it/s]\u001b[A\n",
      "Epoch 2:  76%|███████▌  | 48/63 [00:03<00:00, 20.87it/s]\u001b[A\n",
      "Epoch 2:  81%|████████  | 51/63 [00:03<00:00, 20.91it/s]\u001b[A\n",
      "Epoch 2:  86%|████████▌ | 54/63 [00:03<00:00, 20.94it/s]\u001b[A\n",
      "Epoch 2:  90%|█████████ | 57/63 [00:03<00:00, 20.91it/s]\u001b[A\n",
      "Epoch 2:  95%|█████████▌| 60/63 [00:03<00:00, 20.67it/s]\u001b[A\n",
      "Epoch 2: 100%|██████████| 63/63 [00:03<00:00, 15.96it/s]\u001b[A\n",
      "\n",
      "Validation:   0%|          | 0/1 [00:00<?, ?it/s]\u001b[A\n",
      "Validation: 100%|██████████| 1/1 [00:01<00:00,  1.91s/it]\u001b[A\n"
     ]
    },
    {
     "name": "stdout",
     "output_type": "stream",
     "text": [
      "{'MSE': 1.7881394624710083, 'pearsonr': 0.3201357828916467}\n"
     ]
    },
    {
     "name": "stderr",
     "output_type": "stream",
     "text": [
      "  2%|▎         | 2/80 [00:12<07:58,  6.13s/it]\n",
      "Epoch 3:   0%|          | 0/63 [00:00<?, ?it/s]\u001b[A\n",
      "Epoch 3:   2%|▏         | 1/63 [00:00<00:56,  1.10it/s]\u001b[A\n",
      "Epoch 3:   6%|▋         | 4/63 [00:01<00:12,  4.77it/s]\u001b[A\n",
      "Epoch 3:  11%|█         | 7/63 [00:01<00:06,  8.21it/s]\u001b[A\n",
      "Epoch 3:  16%|█▌        | 10/63 [00:01<00:04, 11.20it/s]\u001b[A\n",
      "Epoch 3:  21%|██        | 13/63 [00:01<00:03, 13.64it/s]\u001b[A\n",
      "Epoch 3:  25%|██▌       | 16/63 [00:01<00:03, 15.57it/s]\u001b[A\n",
      "Epoch 3:  30%|███       | 19/63 [00:01<00:02, 17.05it/s]\u001b[A\n",
      "Epoch 3:  35%|███▍      | 22/63 [00:01<00:02, 18.17it/s]\u001b[A\n",
      "Epoch 3:  40%|███▉      | 25/63 [00:02<00:02, 18.98it/s]\u001b[A\n",
      "Epoch 3:  44%|████▍     | 28/63 [00:02<00:01, 19.48it/s]\u001b[A\n",
      "Epoch 3:  49%|████▉     | 31/63 [00:02<00:01, 19.93it/s]\u001b[A\n",
      "Epoch 3:  54%|█████▍    | 34/63 [00:02<00:01, 20.25it/s]\u001b[A\n",
      "Epoch 3:  59%|█████▊    | 37/63 [00:02<00:01, 20.49it/s]\u001b[A\n",
      "Epoch 3:  63%|██████▎   | 40/63 [00:02<00:01, 20.66it/s]\u001b[A\n",
      "Epoch 3:  68%|██████▊   | 43/63 [00:02<00:00, 20.38it/s]\u001b[A\n",
      "Epoch 3:  73%|███████▎  | 46/63 [00:03<00:00, 20.56it/s]\u001b[A\n",
      "Epoch 3:  78%|███████▊  | 49/63 [00:03<00:00, 20.69it/s]\u001b[A\n",
      "Epoch 3:  83%|████████▎ | 52/63 [00:03<00:00, 20.75it/s]\u001b[A\n",
      "Epoch 3:  87%|████████▋ | 55/63 [00:03<00:00, 20.73it/s]\u001b[A\n",
      "Epoch 3:  92%|█████████▏| 58/63 [00:03<00:00, 20.81it/s]\u001b[A\n",
      "Epoch 3: 100%|██████████| 63/63 [00:03<00:00, 15.93it/s]\u001b[A\n",
      "\n",
      "Validation:   0%|          | 0/1 [00:00<?, ?it/s]\u001b[A\n",
      "Validation: 100%|██████████| 1/1 [00:01<00:00,  1.81s/it]\u001b[A\n",
      "  4%|▍         | 3/80 [00:18<07:40,  5.98s/it]"
     ]
    },
    {
     "name": "stdout",
     "output_type": "stream",
     "text": [
      "{'MSE': 1.9168812036514282, 'pearsonr': 0.3168339496001524}\n"
     ]
    },
    {
     "name": "stderr",
     "output_type": "stream",
     "text": [
      "\n",
      "Epoch 4:   0%|          | 0/63 [00:00<?, ?it/s]\u001b[A\n",
      "Epoch 4:   2%|▏         | 1/63 [00:00<00:48,  1.28it/s]\u001b[A\n",
      "Epoch 4:   5%|▍         | 3/63 [00:00<00:14,  4.13it/s]\u001b[A\n",
      "Epoch 4:  10%|▉         | 6/63 [00:01<00:06,  8.24it/s]\u001b[A\n",
      "Epoch 4:  14%|█▍        | 9/63 [00:01<00:04, 11.55it/s]\u001b[A\n",
      "Epoch 4:  19%|█▉        | 12/63 [00:01<00:03, 14.25it/s]\u001b[A\n",
      "Epoch 4:  24%|██▍       | 15/63 [00:01<00:02, 16.14it/s]\u001b[A\n",
      "Epoch 4:  29%|██▊       | 18/63 [00:01<00:02, 17.55it/s]\u001b[A\n",
      "Epoch 4:  33%|███▎      | 21/63 [00:01<00:02, 18.56it/s]\u001b[A\n",
      "Epoch 4:  38%|███▊      | 24/63 [00:01<00:02, 19.14it/s]\u001b[A\n",
      "Epoch 4:  43%|████▎     | 27/63 [00:02<00:01, 19.67it/s]\u001b[A\n",
      "Epoch 4:  48%|████▊     | 30/63 [00:02<00:01, 20.09it/s]\u001b[A\n",
      "Epoch 4:  52%|█████▏    | 33/63 [00:02<00:01, 20.37it/s]\u001b[A\n",
      "Epoch 4:  57%|█████▋    | 36/63 [00:02<00:01, 20.57it/s]\u001b[A\n",
      "Epoch 4:  62%|██████▏   | 39/63 [00:02<00:01, 20.70it/s]\u001b[A\n",
      "Epoch 4:  67%|██████▋   | 42/63 [00:02<00:01, 20.81it/s]\u001b[A\n",
      "Epoch 4:  71%|███████▏  | 45/63 [00:03<00:01, 13.78it/s]\u001b[A\n",
      "Epoch 4:  76%|███████▌  | 48/63 [00:03<00:00, 15.39it/s]\u001b[A\n",
      "Epoch 4:  81%|████████  | 51/63 [00:03<00:00, 16.74it/s]\u001b[A\n",
      "Epoch 4:  86%|████████▌ | 54/63 [00:03<00:00, 17.82it/s]\u001b[A\n",
      "Epoch 4:  90%|█████████ | 57/63 [00:03<00:00, 18.67it/s]\u001b[A\n",
      "Epoch 4:  95%|█████████▌| 60/63 [00:03<00:00, 19.35it/s]\u001b[A\n",
      "Epoch 4: 100%|██████████| 63/63 [00:04<00:00, 15.45it/s]\u001b[A\n",
      "\n",
      "Validation:   0%|          | 0/1 [00:00<?, ?it/s]\u001b[A\n",
      "Validation: 100%|██████████| 1/1 [00:01<00:00,  1.63s/it]\u001b[A\n"
     ]
    },
    {
     "name": "stdout",
     "output_type": "stream",
     "text": [
      "{'MSE': 1.7716789245605469, 'pearsonr': 0.35356288099867955}\n"
     ]
    },
    {
     "name": "stderr",
     "output_type": "stream",
     "text": [
      "  5%|▌         | 4/80 [00:24<07:34,  5.98s/it]\n",
      "Epoch 5:   0%|          | 0/63 [00:00<?, ?it/s]\u001b[A\n",
      "Epoch 5:   2%|▏         | 1/63 [00:00<00:52,  1.17it/s]\u001b[A\n",
      "Epoch 5:   6%|▋         | 4/63 [00:00<00:11,  5.00it/s]\u001b[A\n",
      "Epoch 5:  11%|█         | 7/63 [00:01<00:06,  8.52it/s]\u001b[A\n",
      "Epoch 5:  16%|█▌        | 10/63 [00:01<00:04, 11.52it/s]\u001b[A\n",
      "Epoch 5:  21%|██        | 13/63 [00:01<00:03, 13.90it/s]\u001b[A\n",
      "Epoch 5:  25%|██▌       | 16/63 [00:01<00:02, 15.79it/s]\u001b[A\n",
      "Epoch 5:  30%|███       | 19/63 [00:01<00:02, 17.23it/s]\u001b[A\n",
      "Epoch 5:  35%|███▍      | 22/63 [00:01<00:02, 18.18it/s]\u001b[A\n",
      "Epoch 5:  40%|███▉      | 25/63 [00:01<00:02, 18.91it/s]\u001b[A\n",
      "Epoch 5:  44%|████▍     | 28/63 [00:02<00:01, 19.53it/s]\u001b[A\n",
      "Epoch 5:  49%|████▉     | 31/63 [00:02<00:01, 19.97it/s]\u001b[A\n",
      "Epoch 5:  54%|█████▍    | 34/63 [00:02<00:01, 20.27it/s]\u001b[A\n",
      "Epoch 5:  59%|█████▊    | 37/63 [00:02<00:01, 20.51it/s]\u001b[A\n",
      "Epoch 5:  63%|██████▎   | 40/63 [00:02<00:01, 20.67it/s]\u001b[A\n",
      "Epoch 5:  68%|██████▊   | 43/63 [00:02<00:00, 20.78it/s]\u001b[A\n",
      "Epoch 5:  73%|███████▎  | 46/63 [00:02<00:00, 20.86it/s]\u001b[A\n",
      "Epoch 5:  78%|███████▊  | 49/63 [00:03<00:00, 20.91it/s]\u001b[A\n",
      "Epoch 5:  83%|████████▎ | 52/63 [00:03<00:00, 20.91it/s]\u001b[A\n",
      "Epoch 5:  87%|████████▋ | 55/63 [00:03<00:00, 20.92it/s]\u001b[A\n",
      "Epoch 5:  92%|█████████▏| 58/63 [00:03<00:00, 20.99it/s]\u001b[A\n",
      "Epoch 5: 100%|██████████| 63/63 [00:03<00:00, 16.18it/s]\u001b[A\n",
      "\n",
      "Validation:   0%|          | 0/1 [00:00<?, ?it/s]\u001b[A\n",
      "Validation: 100%|██████████| 1/1 [00:01<00:00,  1.64s/it]\u001b[A\n",
      "  6%|▋         | 5/80 [00:29<07:17,  5.83s/it]"
     ]
    },
    {
     "name": "stdout",
     "output_type": "stream",
     "text": [
      "{'MSE': 1.9318047761917114, 'pearsonr': 0.3067007666760447}\n"
     ]
    },
    {
     "name": "stderr",
     "output_type": "stream",
     "text": [
      "\n",
      "Epoch 6:   0%|          | 0/63 [00:00<?, ?it/s]\u001b[A\n",
      "Epoch 6:   2%|▏         | 1/63 [00:00<00:54,  1.13it/s]\u001b[A\n",
      "Epoch 6:   6%|▋         | 4/63 [00:01<00:12,  4.89it/s]\u001b[A\n",
      "Epoch 6:  11%|█         | 7/63 [00:01<00:06,  8.38it/s]\u001b[A\n",
      "Epoch 6:  16%|█▌        | 10/63 [00:01<00:04, 11.36it/s]\u001b[A\n",
      "Epoch 6:  21%|██        | 13/63 [00:01<00:03, 13.77it/s]\u001b[A\n",
      "Epoch 6:  25%|██▌       | 16/63 [00:01<00:03, 15.66it/s]\u001b[A\n",
      "Epoch 6:  30%|███       | 19/63 [00:01<00:02, 17.11it/s]\u001b[A\n",
      "Epoch 6:  35%|███▍      | 22/63 [00:01<00:02, 18.19it/s]\u001b[A\n",
      "Epoch 6:  40%|███▉      | 25/63 [00:02<00:02, 18.99it/s]\u001b[A\n",
      "Epoch 6:  44%|████▍     | 28/63 [00:02<00:01, 19.57it/s]\u001b[A\n",
      "Epoch 6:  49%|████▉     | 31/63 [00:02<00:01, 19.98it/s]\u001b[A\n",
      "Epoch 6:  54%|█████▍    | 34/63 [00:02<00:01, 20.28it/s]\u001b[A\n",
      "Epoch 6:  59%|█████▊    | 37/63 [00:02<00:01, 20.48it/s]\u001b[A\n",
      "Epoch 6:  63%|██████▎   | 40/63 [00:02<00:01, 20.62it/s]\u001b[A\n",
      "Epoch 6:  70%|██████▉   | 44/63 [00:03<00:01, 14.47it/s]\u001b[A\n",
      "  6%|▋         | 5/80 [00:32<08:09,  6.52s/it]\n",
      "\n",
      "KeyboardInterrupt\n",
      "\n"
     ]
    }
   ],
   "source": [
    "trainer.fit() # trains model"
   ]
  },
  {
   "cell_type": "code",
   "execution_count": 3,
   "id": "6ea04388-ff0d-485c-9226-a72290270eb8",
   "metadata": {},
   "outputs": [],
   "source": [
    "# or run the whole process with one function:\n",
    "from models.train_model import train_model"
   ]
  },
  {
   "cell_type": "code",
   "execution_count": 4,
   "id": "f601f7b3-87f8-44e1-8c76-a5e85b155828",
   "metadata": {
    "scrolled": true
   },
   "outputs": [
    {
     "name": "stderr",
     "output_type": "stream",
     "text": [
      "  0%|          | 0/80 [00:00<?, ?it/s]\n",
      "Epoch 1:   0%|          | 0/63 [00:00<?, ?it/s]\u001b[A\n",
      "Epoch 1:   2%|▏         | 1/63 [00:01<01:20,  1.30s/it]\u001b[A\n",
      "Epoch 1:   6%|▋         | 4/63 [00:01<00:16,  3.64it/s]\u001b[A\n",
      "Epoch 1:  13%|█▎        | 8/63 [00:01<00:06,  8.01it/s]\u001b[A\n",
      "Epoch 1:  17%|█▋        | 11/63 [00:01<00:04, 11.26it/s]\u001b[A\n",
      "Epoch 1:  22%|██▏       | 14/63 [00:01<00:03, 14.26it/s]\u001b[A\n",
      "Epoch 1:  27%|██▋       | 17/63 [00:01<00:02, 16.66it/s]\u001b[A\n",
      "Epoch 1:  32%|███▏      | 20/63 [00:01<00:02, 18.25it/s]\u001b[A\n",
      "Epoch 1:  37%|███▋      | 23/63 [00:02<00:02, 19.16it/s]\u001b[A\n",
      "Epoch 1:  41%|████▏     | 26/63 [00:02<00:01, 19.76it/s]\u001b[A\n",
      "Epoch 1:  46%|████▌     | 29/63 [00:02<00:01, 20.15it/s]\u001b[A\n",
      "Epoch 1:  51%|█████     | 32/63 [00:02<00:01, 20.48it/s]\u001b[A\n",
      "Epoch 1:  56%|█████▌    | 35/63 [00:02<00:01, 20.69it/s]\u001b[A\n",
      "Epoch 1:  60%|██████    | 38/63 [00:02<00:01, 20.86it/s]\u001b[A\n",
      "Epoch 1:  65%|██████▌   | 41/63 [00:02<00:01, 20.98it/s]\u001b[A\n",
      "Epoch 1:  70%|██████▉   | 44/63 [00:03<00:00, 21.06it/s]\u001b[A\n",
      "Epoch 1:  75%|███████▍  | 47/63 [00:03<00:00, 21.12it/s]\u001b[A\n",
      "Epoch 1:  79%|███████▉  | 50/63 [00:03<00:00, 21.16it/s]\u001b[A\n",
      "Epoch 1:  84%|████████▍ | 53/63 [00:03<00:00, 22.12it/s]\u001b[A\n",
      "Epoch 1:  89%|████████▉ | 56/63 [00:03<00:00, 22.09it/s]\u001b[A\n",
      "Epoch 1:  94%|█████████▎| 59/63 [00:03<00:00, 21.86it/s]\u001b[A\n",
      "Epoch 1: 100%|██████████| 63/63 [00:04<00:00, 15.45it/s]\u001b[A\n",
      "\n",
      "Validation:   0%|          | 0/1 [00:00<?, ?it/s]\u001b[A\n",
      "Validation: 100%|██████████| 1/1 [00:01<00:00,  1.66s/it]\u001b[A\n"
     ]
    },
    {
     "name": "stdout",
     "output_type": "stream",
     "text": [
      "{'MSE': 1.784535527229309, 'pearsonr': 0.3108918543505308}\n"
     ]
    },
    {
     "name": "stderr",
     "output_type": "stream",
     "text": [
      "  1%|▏         | 1/80 [00:06<08:02,  6.11s/it]\n",
      "Epoch 2:   0%|          | 0/63 [00:00<?, ?it/s]\u001b[A\n",
      "Epoch 2:   2%|▏         | 1/63 [00:00<00:53,  1.15it/s]\u001b[A\n",
      "Epoch 2:   6%|▋         | 4/63 [00:01<00:11,  4.94it/s]\u001b[A\n",
      "Epoch 2:  11%|█         | 7/63 [00:01<00:06,  8.49it/s]\u001b[A\n",
      "Epoch 2:  16%|█▌        | 10/63 [00:01<00:04, 11.46it/s]\u001b[A\n",
      "Epoch 2:  21%|██        | 13/63 [00:01<00:03, 13.92it/s]\u001b[A\n",
      "Epoch 2:  25%|██▌       | 16/63 [00:01<00:02, 15.85it/s]\u001b[A\n",
      "Epoch 2:  30%|███       | 19/63 [00:01<00:02, 17.32it/s]\u001b[A\n",
      "Epoch 2:  35%|███▍      | 22/63 [00:01<00:02, 18.42it/s]\u001b[A\n",
      "Epoch 2:  40%|███▉      | 25/63 [00:01<00:01, 19.24it/s]\u001b[A\n",
      "Epoch 2:  44%|████▍     | 28/63 [00:02<00:01, 19.82it/s]\u001b[A\n",
      "Epoch 2:  49%|████▉     | 31/63 [00:02<00:01, 20.24it/s]\u001b[A\n",
      "Epoch 2:  54%|█████▍    | 34/63 [00:02<00:01, 20.40it/s]\u001b[A\n",
      "Epoch 2:  59%|█████▊    | 37/63 [00:02<00:01, 20.62it/s]\u001b[A\n",
      "Epoch 2:  63%|██████▎   | 40/63 [00:02<00:01, 20.79it/s]\u001b[A\n",
      "Epoch 2:  68%|██████▊   | 43/63 [00:02<00:00, 20.94it/s]\u001b[A\n",
      "Epoch 2:  73%|███████▎  | 46/63 [00:02<00:00, 21.04it/s]\u001b[A\n",
      "Epoch 2:  78%|███████▊  | 49/63 [00:03<00:00, 21.06it/s]\u001b[A\n",
      "Epoch 2:  83%|████████▎ | 52/63 [00:03<00:00, 21.12it/s]\u001b[A\n",
      "Epoch 2:  87%|████████▋ | 55/63 [00:03<00:00, 21.14it/s]\u001b[A\n",
      "Epoch 2:  92%|█████████▏| 58/63 [00:03<00:00, 21.20it/s]\u001b[A\n",
      "Epoch 2: 100%|██████████| 63/63 [00:03<00:00, 16.30it/s]\u001b[A\n",
      "\n",
      "Validation:   0%|          | 0/1 [00:00<?, ?it/s]\u001b[A\n",
      "Validation: 100%|██████████| 1/1 [00:01<00:00,  1.64s/it]\u001b[A\n"
     ]
    },
    {
     "name": "stdout",
     "output_type": "stream",
     "text": [
      "{'MSE': 1.9194612503051758, 'pearsonr': 0.3432265846060714}\n"
     ]
    },
    {
     "name": "stderr",
     "output_type": "stream",
     "text": [
      "  2%|▎         | 2/80 [00:11<07:41,  5.91s/it]\n",
      "Epoch 3:   0%|          | 0/63 [00:00<?, ?it/s]\u001b[A\n",
      "Epoch 3:   2%|▏         | 1/63 [00:00<00:51,  1.19it/s]\u001b[A\n",
      "Epoch 3:   5%|▍         | 3/63 [00:00<00:15,  3.93it/s]\u001b[A\n",
      "Epoch 3:  10%|▉         | 6/63 [00:01<00:06,  8.15it/s]\u001b[A\n",
      "Epoch 3:  14%|█▍        | 9/63 [00:01<00:04, 11.81it/s]\u001b[A\n",
      "Epoch 3:  19%|█▉        | 12/63 [00:01<00:03, 14.68it/s]\u001b[A\n",
      "Epoch 3:  24%|██▍       | 15/63 [00:01<00:02, 16.73it/s]\u001b[A\n",
      "Epoch 3:  29%|██▊       | 18/63 [00:01<00:02, 18.04it/s]\u001b[A\n",
      "Epoch 3:  33%|███▎      | 21/63 [00:01<00:02, 18.82it/s]\u001b[A\n",
      "Epoch 3:  38%|███▊      | 24/63 [00:01<00:02, 19.46it/s]\u001b[A\n",
      "Epoch 3:  43%|████▎     | 27/63 [00:02<00:01, 19.97it/s]\u001b[A\n",
      "Epoch 3:  48%|████▊     | 30/63 [00:02<00:01, 20.36it/s]\u001b[A\n",
      "Epoch 3:  52%|█████▏    | 33/63 [00:02<00:01, 20.63it/s]\u001b[A\n",
      "Epoch 3:  57%|█████▋    | 36/63 [00:02<00:01, 20.82it/s]\u001b[A\n",
      "Epoch 3:  62%|██████▏   | 39/63 [00:02<00:01, 20.95it/s]\u001b[A\n",
      "Epoch 3:  67%|██████▋   | 42/63 [00:02<00:00, 21.25it/s]\u001b[A\n",
      "Epoch 3:  71%|███████▏  | 45/63 [00:02<00:00, 21.43it/s]\u001b[A\n",
      "Epoch 3:  76%|███████▌  | 48/63 [00:02<00:00, 21.38it/s]\u001b[A\n",
      "Epoch 3:  81%|████████  | 51/63 [00:03<00:00, 21.30it/s]\u001b[A\n",
      "Epoch 3:  86%|████████▌ | 54/63 [00:03<00:00, 21.29it/s]\u001b[A\n",
      "Epoch 3:  90%|█████████ | 57/63 [00:03<00:00, 21.35it/s]\u001b[A\n",
      "Epoch 3:  95%|█████████▌| 60/63 [00:03<00:00, 21.35it/s]\u001b[A\n",
      "Epoch 3: 100%|██████████| 63/63 [00:03<00:00, 16.64it/s]\u001b[A\n",
      "\n",
      "Validation:   0%|          | 0/1 [00:00<?, ?it/s]\u001b[A\n",
      "Validation: 100%|██████████| 1/1 [00:01<00:00,  1.66s/it]\u001b[A\n"
     ]
    },
    {
     "name": "stdout",
     "output_type": "stream",
     "text": [
      "{'MSE': 1.7584443092346191, 'pearsonr': 0.34771759278124337}\n"
     ]
    },
    {
     "name": "stderr",
     "output_type": "stream",
     "text": [
      "  4%|▍         | 3/80 [00:17<07:32,  5.87s/it]\n",
      "Epoch 4:   0%|          | 0/63 [00:00<?, ?it/s]\u001b[A\n",
      "Epoch 4:   2%|▏         | 1/63 [00:00<00:55,  1.12it/s]\u001b[A\n",
      "Epoch 4:   5%|▍         | 3/63 [00:00<00:16,  3.72it/s]\u001b[A\n",
      "Epoch 4:  10%|▉         | 6/63 [00:01<00:07,  7.56it/s]\u001b[A\n",
      "Epoch 4:  14%|█▍        | 9/63 [00:01<00:04, 10.87it/s]\u001b[A\n",
      "Epoch 4:  19%|█▉        | 12/63 [00:01<00:03, 13.53it/s]\u001b[A\n",
      "Epoch 4:  24%|██▍       | 15/63 [00:01<00:03, 15.59it/s]\u001b[A\n",
      "Epoch 4:  29%|██▊       | 18/63 [00:01<00:02, 17.17it/s]\u001b[A\n",
      "Epoch 4:  33%|███▎      | 21/63 [00:01<00:02, 18.34it/s]\u001b[A\n",
      "Epoch 4:  38%|███▊      | 24/63 [00:01<00:02, 19.19it/s]\u001b[A\n",
      "Epoch 4:  43%|████▎     | 27/63 [00:02<00:01, 19.81it/s]\u001b[A\n",
      "Epoch 4:  48%|████▊     | 30/63 [00:02<00:01, 20.25it/s]\u001b[A\n",
      "Epoch 4:  52%|█████▏    | 33/63 [00:02<00:01, 20.57it/s]\u001b[A\n",
      "Epoch 4:  57%|█████▋    | 36/63 [00:02<00:01, 20.79it/s]\u001b[A\n",
      "Epoch 4:  62%|██████▏   | 39/63 [00:02<00:01, 20.95it/s]\u001b[A\n",
      "Epoch 4:  67%|██████▋   | 42/63 [00:02<00:00, 21.08it/s]\u001b[A\n",
      "Epoch 4:  71%|███████▏  | 45/63 [00:02<00:00, 21.09it/s]\u001b[A\n",
      "Epoch 4:  76%|███████▌  | 48/63 [00:03<00:00, 21.14it/s]\u001b[A\n",
      "Epoch 4:  81%|████████  | 51/63 [00:03<00:00, 21.20it/s]\u001b[A\n",
      "Epoch 4:  86%|████████▌ | 54/63 [00:03<00:00, 21.25it/s]\u001b[A\n",
      "Epoch 4:  90%|█████████ | 57/63 [00:03<00:00, 21.26it/s]\u001b[A\n",
      "Epoch 4:  95%|█████████▌| 60/63 [00:03<00:00, 21.32it/s]\u001b[A\n",
      "Epoch 4: 100%|██████████| 63/63 [00:03<00:00, 16.20it/s]\u001b[A\n",
      "\n",
      "Validation:   0%|          | 0/1 [00:00<?, ?it/s]\u001b[A\n",
      "Validation: 100%|██████████| 1/1 [00:01<00:00,  1.69s/it]\u001b[A\n"
     ]
    },
    {
     "name": "stdout",
     "output_type": "stream",
     "text": [
      "{'MSE': 1.7403440475463867, 'pearsonr': 0.35911750814220406}\n"
     ]
    },
    {
     "name": "stderr",
     "output_type": "stream",
     "text": [
      "  5%|▌         | 4/80 [00:23<07:27,  5.88s/it]\n",
      "Epoch 5:   0%|          | 0/63 [00:00<?, ?it/s]\u001b[A\n",
      "Epoch 5:   2%|▏         | 1/63 [00:00<00:54,  1.15it/s]\u001b[A\n",
      "Epoch 5:   6%|▋         | 4/63 [00:01<00:12,  4.91it/s]\u001b[A\n",
      "Epoch 5:  11%|█         | 7/63 [00:01<00:06,  8.48it/s]\u001b[A\n",
      "Epoch 5:  16%|█▌        | 10/63 [00:01<00:04, 11.47it/s]\u001b[A\n",
      "Epoch 5:  21%|██        | 13/63 [00:01<00:03, 13.94it/s]\u001b[A\n",
      "Epoch 5:  24%|██▍       | 15/63 [00:01<00:03, 15.16it/s]\u001b[A\n",
      "Epoch 5:  29%|██▊       | 18/63 [00:01<00:02, 16.94it/s]\u001b[A\n",
      "Epoch 5:  33%|███▎      | 21/63 [00:01<00:02, 18.21it/s]\u001b[A\n",
      "Epoch 5:  38%|███▊      | 24/63 [00:01<00:02, 19.12it/s]\u001b[A\n",
      "Epoch 5:  43%|████▎     | 27/63 [00:02<00:01, 19.77it/s]\u001b[A\n",
      "Epoch 5:  48%|████▊     | 30/63 [00:02<00:01, 20.23it/s]\u001b[A\n",
      "Epoch 5:  52%|█████▏    | 33/63 [00:02<00:01, 20.56it/s]\u001b[A\n",
      "Epoch 5:  57%|█████▋    | 36/63 [00:02<00:01, 20.78it/s]\u001b[A\n",
      "Epoch 5:  62%|██████▏   | 39/63 [00:02<00:01, 20.94it/s]\u001b[A\n",
      "Epoch 5:  67%|██████▋   | 42/63 [00:02<00:00, 21.05it/s]\u001b[A\n",
      "Epoch 5:  71%|███████▏  | 45/63 [00:02<00:00, 21.10it/s]\u001b[A\n",
      "Epoch 5:  76%|███████▌  | 48/63 [00:03<00:00, 21.16it/s]\u001b[A\n",
      "Epoch 5:  81%|████████  | 51/63 [00:03<00:00, 21.21it/s]\u001b[A\n",
      "Epoch 5:  86%|████████▌ | 54/63 [00:03<00:00, 21.26it/s]\u001b[A\n",
      "Epoch 5:  90%|█████████ | 57/63 [00:03<00:00, 21.26it/s]\u001b[A\n",
      "Epoch 5:  95%|█████████▌| 60/63 [00:03<00:00, 21.33it/s]\u001b[A\n",
      "Epoch 5: 100%|██████████| 63/63 [00:03<00:00, 16.28it/s]\u001b[A\n",
      "\n",
      "Validation:   0%|          | 0/1 [00:00<?, ?it/s]\u001b[A\n",
      "Validation: 100%|██████████| 1/1 [00:01<00:00,  1.69s/it]\u001b[A\n",
      "  6%|▋         | 5/80 [00:29<07:13,  5.78s/it]"
     ]
    },
    {
     "name": "stdout",
     "output_type": "stream",
     "text": [
      "{'MSE': 1.736575961112976, 'pearsonr': 0.3564053730816401}\n"
     ]
    },
    {
     "name": "stderr",
     "output_type": "stream",
     "text": [
      "\n",
      "Epoch 6:   0%|          | 0/63 [00:00<?, ?it/s]\u001b[A\n",
      "Epoch 6:   2%|▏         | 1/63 [00:00<00:49,  1.24it/s]\u001b[A\n",
      "Epoch 6:   6%|▋         | 4/63 [00:00<00:11,  5.26it/s]\u001b[A\n",
      "Epoch 6:  11%|█         | 7/63 [00:01<00:06,  8.89it/s]\u001b[A\n",
      "Epoch 6:  16%|█▌        | 10/63 [00:01<00:04, 11.89it/s]\u001b[A\n",
      "Epoch 6:  21%|██        | 13/63 [00:01<00:03, 14.30it/s]\u001b[A\n",
      "Epoch 6:  25%|██▌       | 16/63 [00:01<00:02, 16.16it/s]\u001b[A\n",
      "Epoch 6:  30%|███       | 19/63 [00:01<00:02, 17.57it/s]\u001b[A\n",
      "Epoch 6:  35%|███▍      | 22/63 [00:01<00:02, 18.76it/s]\u001b[A\n",
      "Epoch 6:  40%|███▉      | 25/63 [00:01<00:01, 19.48it/s]\u001b[A\n",
      "Epoch 6:  44%|████▍     | 28/63 [00:02<00:01, 20.01it/s]\u001b[A\n",
      "Epoch 6:  49%|████▉     | 31/63 [00:02<00:01, 20.40it/s]\u001b[A\n",
      "Epoch 6:  54%|█████▍    | 34/63 [00:02<00:01, 20.67it/s]\u001b[A\n",
      "Epoch 6:  59%|█████▊    | 37/63 [00:02<00:01, 20.85it/s]\u001b[A\n",
      "Epoch 6:  63%|██████▎   | 40/63 [00:02<00:01, 20.99it/s]\u001b[A\n",
      "Epoch 6:  68%|██████▊   | 43/63 [00:02<00:00, 21.03it/s]\u001b[A\n",
      "Epoch 6:  73%|███████▎  | 46/63 [00:02<00:00, 21.07it/s]\u001b[A\n",
      "Epoch 6:  78%|███████▊  | 49/63 [00:03<00:00, 21.14it/s]\u001b[A\n",
      "Epoch 6:  83%|████████▎ | 52/63 [00:03<00:00, 21.19it/s]\u001b[A\n",
      "Epoch 6:  87%|████████▋ | 55/63 [00:03<00:00, 21.22it/s]\u001b[A\n",
      "Epoch 6:  92%|█████████▏| 58/63 [00:03<00:00, 21.25it/s]\u001b[A\n",
      "Epoch 6: 100%|██████████| 63/63 [00:03<00:00, 16.61it/s]\u001b[A\n",
      "\n",
      "Validation:   0%|          | 0/1 [00:00<?, ?it/s]\u001b[A\n",
      "Validation: 100%|██████████| 1/1 [00:01<00:00,  1.65s/it]\u001b[A\n",
      "  8%|▊         | 6/80 [00:34<07:00,  5.68s/it]"
     ]
    },
    {
     "name": "stdout",
     "output_type": "stream",
     "text": [
      "{'MSE': 1.8021858930587769, 'pearsonr': 0.3587991236655915}\n"
     ]
    },
    {
     "name": "stderr",
     "output_type": "stream",
     "text": [
      "\n",
      "Epoch 7:   0%|          | 0/63 [00:00<?, ?it/s]\u001b[A\n",
      "Epoch 7:   2%|▏         | 1/63 [00:00<00:55,  1.13it/s]\u001b[A\n",
      "Epoch 7:   6%|▋         | 4/63 [00:01<00:12,  4.84it/s]\u001b[A\n",
      "Epoch 7:  11%|█         | 7/63 [00:01<00:06,  8.34it/s]\u001b[A\n",
      "Epoch 7:  14%|█▍        | 9/63 [00:01<00:05, 10.35it/s]\u001b[A\n",
      "Epoch 7:  19%|█▉        | 12/63 [00:01<00:03, 13.20it/s]\u001b[A\n",
      "Epoch 7:  24%|██▍       | 15/63 [00:01<00:03, 15.38it/s]\u001b[A\n",
      "Epoch 7:  29%|██▊       | 18/63 [00:01<00:02, 17.01it/s]\u001b[A\n",
      "Epoch 7:  33%|███▎      | 21/63 [00:01<00:02, 18.22it/s]\u001b[A\n",
      "Epoch 7:  38%|███▊      | 24/63 [00:01<00:02, 19.09it/s]\u001b[A\n",
      "Epoch 7:  43%|████▎     | 27/63 [00:02<00:01, 19.73it/s]\u001b[A\n",
      "Epoch 7:  48%|████▊     | 30/63 [00:02<00:01, 20.21it/s]\u001b[A\n",
      "Epoch 7:  52%|█████▏    | 33/63 [00:02<00:01, 20.70it/s]\u001b[A\n",
      "Epoch 7:  60%|██████    | 38/63 [00:02<00:01, 13.90it/s]\u001b[A\n",
      "  8%|▊         | 6/80 [00:37<07:41,  6.24s/it]\n",
      "\n",
      "KeyboardInterrupt\n",
      "\n"
     ]
    }
   ],
   "source": [
    "train_model(species='human', \n",
    "            arch='rnn', \n",
    "            model_path='data/human/model')"
   ]
  },
  {
   "cell_type": "markdown",
   "id": "3f6725b8-4ebb-4a94-a515-8f88e9e5be82",
   "metadata": {},
   "source": [
    "# Predict"
   ]
  },
  {
   "cell_type": "code",
   "execution_count": 5,
   "id": "d7c0f905-3510-40b1-b104-1c0e1aed564c",
   "metadata": {
    "scrolled": true
   },
   "outputs": [],
   "source": [
    "device=torch.device(\"cuda\" if torch.cuda.is_available() else \"cpu\")\n",
    "model=load_model(species='human',\n",
    "                 arch='rnn',\n",
    "                 path='data/human/model/model_best.pth')\n",
    "model.to(device).eval()\n",
    "\n",
    "test_dl = prepare_dataloader(\"data/human/demo_test.txt\", \n",
    "                                seqsize=200, \n",
    "                                species='human',\n",
    "                                batch_size=2048,\n",
    "                                shuffle=False)"
   ]
  },
  {
   "cell_type": "code",
   "execution_count": 6,
   "id": "24fee644-99d1-49fa-bb49-5db74cdc127c",
   "metadata": {},
   "outputs": [],
   "source": [
    "with torch.inference_mode():\n",
    "    for batch in test_dl:\n",
    "        X = batch[\"x\"].to(device)\n",
    "        predictions=model(X).cpu().numpy()\n",
    "all_preds=np.concatenate(predictions,axis=0)\n",
    "all_preds=np.squeeze(all_preds)\n",
    "all_preds = average_fwd_rev_pred(data=all_preds)"
   ]
  },
  {
   "cell_type": "code",
   "execution_count": 7,
   "id": "3846083a-c278-46ce-a8aa-26a0b3eb8dd9",
   "metadata": {},
   "outputs": [],
   "source": [
    "gt=load_ground_truth(\"data/human/demo_test.txt\")"
   ]
  },
  {
   "cell_type": "markdown",
   "id": "d83854d8-3c72-4a4d-9cd2-69d24c60016e",
   "metadata": {},
   "source": [
    "# Plot\n",
    "These models are trained for a few epochs on 1000 training sequences so we aren't expecting perfect performance here"
   ]
  },
  {
   "cell_type": "code",
   "execution_count": 8,
   "id": "54b76a1c-acd7-4824-b61c-d6a76af7bc79",
   "metadata": {},
   "outputs": [
    {
     "data": {
      "image/png": "[encoded data removed]",
      "text/plain": [
       "<Figure size 640x480 with 1 Axes>"
      ]
     },
     "metadata": {},
     "output_type": "display_data"
    }
   ],
   "source": [
    "plt.scatter(gt,all_preds,s=1)\n",
    "plt.xlabel(\"Ground truth\")\n",
    "plt.ylabel(\"Model predictions\")\n",
    "plt.title(\"Model predictions vs ground truth\")\n",
    "plt.show()"
   ]
  },
  {
   "cell_type": "markdown",
   "id": "43b1d7e1-f502-402d-9ae9-c1aba196c534",
   "metadata": {},
   "source": [
    "# Evaluate models on test sets\n",
    "(ID and OOD both point to the same demo file; these should be changed to the actual files)"
   ]
  },
  {
   "cell_type": "code",
   "execution_count": 9,
   "id": "bef2bef3-c95b-4a64-a274-f44060372cc3",
   "metadata": {},
   "outputs": [],
   "source": [
    "eval_model(species='human',\n",
    "           arch='rnn',\n",
    "           model_path='data/human/model/model_best.pth',\n",
    "           out_file='data/human/model/results.txt')"
   ]
  },
  {
   "cell_type": "code",
   "execution_count": 10,
   "id": "d4ed0122-1a3d-4972-a93f-349899c31cf3",
   "metadata": {},
   "outputs": [
    {
     "name": "stdout",
     "output_type": "stream",
     "text": [
      "ID\t0.3076269708439276\n",
      "OOD\t0.3076269708439276\n",
      "SNV\t0.02664491270184708\n"
     ]
    }
   ],
   "source": [
    "%%bash\n",
    "cat data/human/model/results.txt"
   ]
  }
 ],
 "metadata": {
  "kernelspec": {
   "display_name": "cuml2",
   "language": "python",
   "name": "cuml2"
  },
  "language_info": {
   "codemirror_mode": {
    "name": "ipython",
    "version": 3
   },
   "file_extension": ".py",
   "mimetype": "text/x-python",
   "name": "python",
   "nbconvert_exporter": "python",
   "pygments_lexer": "ipython3",
   "version": "3.12.3"
  }
 },
 "nbformat": 4,
 "nbformat_minor": 5
}
